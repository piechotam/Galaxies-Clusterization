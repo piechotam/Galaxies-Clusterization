{
 "cells": [
  {
   "cell_type": "code",
   "execution_count": 2,
   "metadata": {},
   "outputs": [],
   "source": [
    "import sys\n",
    "import os\n",
    "\n",
    "import numpy as np\n",
    "import matplotlib.pyplot as plt\n",
    "\n",
    "from tensorflow.keras.models import Sequential\n",
    "from tensorflow.keras.layers import Flatten, Dense, Reshape\n",
    "\n",
    "sys.path.insert(0, os.path.abspath(os.path.join(\"..\", \"src\")))\n",
    "from utils import read_filenames, prepare_datasets\n",
    "from processing import process_image\n",
    "from data_generator import ImageDataGenerator\n",
    "\n",
    "import warnings\n",
    "warnings.filterwarnings('ignore')"
   ]
  },
  {
   "cell_type": "code",
   "execution_count": 3,
   "metadata": {},
   "outputs": [],
   "source": [
    "path = '/Users/michal/Documents/studia/sem4/WdUM/Galaxies_Clusterization/data/images'\n",
    "#path = '/Users/julia/Desktop/semestr-4/ml/projekty/projekt-2/galaxies_data/images_gz2/images'\n",
    "\n",
    "galaxies = read_filenames(path)"
   ]
  },
  {
   "cell_type": "code",
   "execution_count": 4,
   "metadata": {},
   "outputs": [],
   "source": [
    "galaxies_train, galaxies_val, galaxies_test = prepare_datasets(galaxies, 100000)"
   ]
  },
  {
   "cell_type": "code",
   "execution_count": 7,
   "metadata": {},
   "outputs": [],
   "source": [
    "batch_size = 32\n",
    "img_size = 30\n",
    "\n",
    "train_gen = ImageDataGenerator(galaxies_train, batch_size, img_size)\n",
    "val_gen = ImageDataGenerator(galaxies_val, batch_size, img_size)"
   ]
  },
  {
   "cell_type": "code",
   "execution_count": 8,
   "metadata": {},
   "outputs": [],
   "source": [
    "encoder = Sequential([\n",
    "    Flatten(input_shape=[img_size, img_size]),\n",
    "    Dense(20*img_size, activation=\"relu\"),\n",
    "    Dense(16*img_size, activation=\"relu\"),\n",
    "    Dense(12*img_size, activation=\"relu\"),\n",
    "    Dense(8*img_size, activation=\"relu\"),\n",
    "    Dense(4*img_size, activation=\"relu\"),\n",
    "    Dense(2*img_size, activation=\"relu\"),\n",
    "    Dense(img_size, activation=\"relu\")\n",
    "])\n",
    "\n",
    "# Define the decoder\n",
    "decoder = Sequential([\n",
    "    Dense(2*img_size, input_shape=[img_size], activation=\"relu\"),\n",
    "    Dense(4*img_size, activation=\"relu\"),\n",
    "    Dense(8*img_size, activation=\"relu\"),\n",
    "    Dense(12*img_size, activation=\"relu\"),\n",
    "    Dense(16*img_size, activation=\"relu\"),\n",
    "    Dense(20*img_size, activation=\"relu\"),\n",
    "    Dense(img_size * img_size, activation=\"sigmoid\"),\n",
    "    Reshape([img_size, img_size])\n",
    "])\n",
    "\n",
    "autoencoder = Sequential([encoder, decoder])\n",
    "autoencoder.compile(optimizer='adam', loss='binary_crossentropy')"
   ]
  },
  {
   "cell_type": "code",
   "execution_count": 10,
   "metadata": {},
   "outputs": [
    {
     "name": "stdout",
     "output_type": "stream",
     "text": [
      "Epoch 1/10\n",
      "\u001b[1m2000/2000\u001b[0m \u001b[32m━━━━━━━━━━━━━━━━━━━━\u001b[0m\u001b[37m\u001b[0m \u001b[1m147s\u001b[0m 73ms/step - loss: 0.3050 - val_loss: 0.2873\n",
      "\n",
      "Epoch 2/10\n",
      "\u001b[1m2000/2000\u001b[0m \u001b[32m━━━━━━━━━━━━━━━━━━━━\u001b[0m\u001b[37m\u001b[0m \u001b[1m147s\u001b[0m 74ms/step - loss: 0.2858 - val_loss: 0.2835\n",
      "\n",
      "Epoch 3/10\n",
      "\u001b[1m2000/2000\u001b[0m \u001b[32m━━━━━━━━━━━━━━━━━━━━\u001b[0m\u001b[37m\u001b[0m \u001b[1m151s\u001b[0m 76ms/step - loss: 0.2840 - val_loss: 0.2835\n",
      "\n",
      "Epoch 4/10\n",
      "\u001b[1m2000/2000\u001b[0m \u001b[32m━━━━━━━━━━━━━━━━━━━━\u001b[0m\u001b[37m\u001b[0m \u001b[1m149s\u001b[0m 74ms/step - loss: 0.2837 - val_loss: 0.2827\n",
      "\n",
      "Epoch 5/10\n",
      "\u001b[1m2000/2000\u001b[0m \u001b[32m━━━━━━━━━━━━━━━━━━━━\u001b[0m\u001b[37m\u001b[0m \u001b[1m152s\u001b[0m 76ms/step - loss: 0.2832 - val_loss: 0.2824\n",
      "\n",
      "Epoch 6/10\n",
      "\u001b[1m2000/2000\u001b[0m \u001b[32m━━━━━━━━━━━━━━━━━━━━\u001b[0m\u001b[37m\u001b[0m \u001b[1m153s\u001b[0m 76ms/step - loss: 0.2827 - val_loss: 0.2817\n",
      "\n",
      "Epoch 7/10\n",
      "\u001b[1m2000/2000\u001b[0m \u001b[32m━━━━━━━━━━━━━━━━━━━━\u001b[0m\u001b[37m\u001b[0m \u001b[1m153s\u001b[0m 76ms/step - loss: 0.2822 - val_loss: 0.2813\n",
      "\n",
      "Epoch 8/10\n",
      "\u001b[1m2000/2000\u001b[0m \u001b[32m━━━━━━━━━━━━━━━━━━━━\u001b[0m\u001b[37m\u001b[0m \u001b[1m155s\u001b[0m 78ms/step - loss: 0.2822 - val_loss: 0.2812\n",
      "\n",
      "Epoch 9/10\n",
      "\u001b[1m2000/2000\u001b[0m \u001b[32m━━━━━━━━━━━━━━━━━━━━\u001b[0m\u001b[37m\u001b[0m \u001b[1m155s\u001b[0m 77ms/step - loss: 0.2819 - val_loss: 0.2813\n",
      "\n",
      "Epoch 10/10\n",
      "\u001b[1m2000/2000\u001b[0m \u001b[32m━━━━━━━━━━━━━━━━━━━━\u001b[0m\u001b[37m\u001b[0m \u001b[1m154s\u001b[0m 77ms/step - loss: 0.2818 - val_loss: 0.2812\n",
      "\n"
     ]
    }
   ],
   "source": [
    "for epoch in range(10):\n",
    "    print(f\"Epoch {epoch + 1}/{10}\")\n",
    "\n",
    "    autoencoder.fit(\n",
    "        train_gen,\n",
    "        epochs=1,\n",
    "        validation_data=val_gen,\n",
    "    )\n",
    "\n",
    "    train_gen.on_epoch_end()\n",
    "    val_gen.on_epoch_end()\n",
    "\n",
    "    print()"
   ]
  },
  {
   "cell_type": "code",
   "execution_count": 29,
   "metadata": {},
   "outputs": [],
   "source": [
    "autoencoder.save(f'../models/autoencoder_{img_size}by{img_size}.keras')"
   ]
  }
 ],
 "metadata": {
  "kernelspec": {
   "display_name": "venv",
   "language": "python",
   "name": "python3"
  },
  "language_info": {
   "codemirror_mode": {
    "name": "ipython",
    "version": 3
   },
   "file_extension": ".py",
   "mimetype": "text/x-python",
   "name": "python",
   "nbconvert_exporter": "python",
   "pygments_lexer": "ipython3",
   "version": "3.12.3"
  }
 },
 "nbformat": 4,
 "nbformat_minor": 2
}
